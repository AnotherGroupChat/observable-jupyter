{
 "cells": [
  {
   "cell_type": "code",
   "execution_count": 1,
   "metadata": {},
   "outputs": [],
   "source": [
    "from observable_jupyter_embed import embed"
   ]
  },
  {
   "cell_type": "code",
   "execution_count": 2,
   "metadata": {},
   "outputs": [
    {
     "data": {
      "text/html": [
       "<div id=\"observable-embed-div-030790960902439823\"></div>\n",
       "<script type=\"module\">\n",
       "const inputs = {\"a\": [1, 2, 3], \"b\": [4, 5]}\n",
       "import {Runtime, Inspector} from \"https://cdn.jsdelivr.net/npm/@observablehq/runtime@4/dist/runtime.js\";\n",
       "import define from \"https://api.observablehq.com/d/e4d7b23b27074e16.js?v=3\";\n",
       "const inspect = Inspector.into(\"#observable-embed-div-030790960902439823\");\n",
       "const main = (new Runtime).module(define, name => true && inspect());\n",
       "for (let name of Object.keys(inputs)) {\n",
       "  main.redefine(name, inputs[name]);\n",
       "}\n",
       "</script>"
      ],
      "text/plain": [
       "<IPython.core.display.HTML object>"
      ]
     },
     "metadata": {},
     "output_type": "display_data"
    }
   ],
   "source": [
    "embed('d/e4d7b23b27074e16', inputs={'a': [1,2,3], 'b': [4,5]}, use_iframe=False)"
   ]
  },
  {
   "cell_type": "markdown",
   "metadata": {},
   "source": [
    "# Specific cells"
   ]
  },
  {
   "cell_type": "code",
   "execution_count": 3,
   "metadata": {},
   "outputs": [
    {
     "data": {
      "text/html": [
       "<div id=\"observable-embed-div-48775504215859466\"></div>\n",
       "<script type=\"module\">\n",
       "const inputs = {\"b\": \"there\"}\n",
       "import {Runtime, Inspector} from \"https://cdn.jsdelivr.net/npm/@observablehq/runtime@4/dist/runtime.js\";\n",
       "import define from \"https://api.observablehq.com/d/e4d7b23b27074e16.js?v=3\";\n",
       "const inspect = Inspector.into(\"#observable-embed-div-48775504215859466\");\n",
       "const main = (new Runtime).module(define, name => (name === \"a\") && inspect());\n",
       "for (let name of Object.keys(inputs)) {\n",
       "  main.redefine(name, inputs[name]);\n",
       "}\n",
       "</script>"
      ],
      "text/plain": [
       "<IPython.core.display.HTML object>"
      ]
     },
     "metadata": {},
     "output_type": "display_data"
    }
   ],
   "source": [
    "embed('d/e4d7b23b27074e16', cells=['a'], inputs={'b': \"there\"}, use_iframe=False)"
   ]
  },
  {
   "cell_type": "markdown",
   "metadata": {},
   "source": [
    "# iframe"
   ]
  },
  {
   "cell_type": "code",
   "execution_count": 4,
   "metadata": {},
   "outputs": [
    {
     "data": {
      "text/html": [
       "<iframe id=\"observable-embed-div-00943496151289358\" sandbox=\"allow-scripts\" style=\"resize: both; overflow: auto;\"></iframe>\n",
       "<script>\n",
       "iframeSrc = `<!DOCTYPE html>\n",
       "<link rel=\"stylesheet\" href=\"https://cdn.jsdelivr.net/npm/@observablehq/inspector@3/dist/inspector.css\">\n",
       "<div id=\"observable-embed-div-00943496151289358\"></div>\n",
       "<script type=\"module\">\n",
       "const inputs = {\"b\": \"there\"}\n",
       "import {Runtime, Inspector} from \"https://cdn.jsdelivr.net/npm/@observablehq/runtime@4/dist/runtime.js\";\n",
       "import define from \"https://api.observablehq.com/d/e4d7b23b27074e16.js?v=3\";\n",
       "const inspect = Inspector.into(\"#observable-embed-div-00943496151289358\");\n",
       "const main = (new Runtime).module(define, name => (name === \"a\") && inspect());\n",
       "for (let name of Object.keys(inputs)) {\n",
       "  main.redefine(name, inputs[name]);\n",
       "}\n",
       "</scri` + 'pt>';\n",
       "document.getElementById('observable-embed-div-00943496151289358').srcdoc = iframeSrc\n",
       "</script>\n",
       "    "
      ],
      "text/plain": [
       "<IPython.core.display.HTML object>"
      ]
     },
     "metadata": {},
     "output_type": "display_data"
    }
   ],
   "source": [
    "embed('d/e4d7b23b27074e16', cells=['a'], inputs={'b': \"there\"})"
   ]
  }
 ],
 "metadata": {
  "kernelspec": {
   "display_name": "Python 3",
   "language": "python",
   "name": "python3"
  },
  "language_info": {
   "codemirror_mode": {
    "name": "ipython",
    "version": 3
   },
   "file_extension": ".py",
   "mimetype": "text/x-python",
   "name": "python",
   "nbconvert_exporter": "python",
   "pygments_lexer": "ipython3",
   "version": "3.7.4"
  }
 },
 "nbformat": 4,
 "nbformat_minor": 2
}
