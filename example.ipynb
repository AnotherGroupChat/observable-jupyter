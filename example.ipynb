{
 "cells": [
  {
   "cell_type": "code",
   "execution_count": 1,
   "metadata": {},
   "outputs": [],
   "source": [
    "from observable_jupyter_embed import embed"
   ]
  },
  {
   "cell_type": "code",
   "execution_count": 2,
   "metadata": {},
   "outputs": [
    {
     "data": {
      "text/html": [
       "<div id=\"observablehq-883ab4d6\"></div>\n",
       "<script type=\"module\">\n",
       "const inputs = {\"a\": [1, 2, 3], \"b\": [4, 5]}\n",
       "import {Runtime, Inspector} from \"https://cdn.jsdelivr.net/npm/@observablehq/runtime@4/dist/runtime.js\";\n",
       "import define from \"https://api.observablehq.com/d/e4d7b23b27074e16.js?v=3\";\n",
       "const inspect = Inspector.into(\"#observablehq-883ab4d6\");\n",
       "const main = (new Runtime).module(define, name => true && inspect());\n",
       "for (let name of Object.keys(inputs)) {\n",
       "  main.redefine(name, inputs[name]);\n",
       "}\n",
       "</script>\n",
       "\n"
      ],
      "text/plain": [
       "<IPython.core.display.HTML object>"
      ]
     },
     "metadata": {},
     "output_type": "display_data"
    }
   ],
   "source": [
    "embed('d/e4d7b23b27074e16', inputs={'a': [1,2,3], 'b': [4,5]}, use_iframe=False)"
   ]
  }
 ],
 "metadata": {
  "kernelspec": {
   "display_name": "Python 3",
   "language": "python",
   "name": "python3"
  },
  "language_info": {
   "codemirror_mode": {
    "name": "ipython",
    "version": 3
   },
   "file_extension": ".py",
   "mimetype": "text/x-python",
   "name": "python",
   "nbconvert_exporter": "python",
   "pygments_lexer": "ipython3",
   "version": "3.7.4"
  }
 },
 "nbformat": 4,
 "nbformat_minor": 2
}
