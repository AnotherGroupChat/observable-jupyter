{
 "cells": [
  {
   "cell_type": "code",
   "execution_count": 1,
   "metadata": {},
   "outputs": [],
   "source": [
    "from observable_jupyter import embed"
   ]
  },
  {
   "cell_type": "code",
   "execution_count": 2,
   "metadata": {},
   "outputs": [
    {
     "data": {
      "text/html": [
       "<div id=\"observable-embed-div-39396137603623804\"></div>\n",
       "<script type=\"module\">\n",
       "const inputs = {\"a\": [1, 2, 3], \"b\": [4, 5]}\n",
       "import {Runtime, Inspector} from \"https://cdn.jsdelivr.net/npm/@observablehq/runtime@4/dist/runtime.js\";\n",
       "import define from \"https://api.observablehq.com/d/e4d7b23b27074e16.js?v=3\";\n",
       "const inspect = Inspector.into(\"#observable-embed-div-39396137603623804\");\n",
       "const main = (new Runtime).module(define, name => true && inspect());\n",
       "for (let name of Object.keys(inputs)) {\n",
       "  main.redefine(name, inputs[name]);\n",
       "}\n",
       "</script>"
      ],
      "text/plain": [
       "<IPython.core.display.HTML object>"
      ]
     },
     "metadata": {},
     "output_type": "display_data"
    }
   ],
   "source": [
    "embed('d/e4d7b23b27074e16', inputs={'a': [1,2,3], 'b': [4,5]}, use_iframe=False)"
   ]
  },
  {
   "cell_type": "markdown",
   "metadata": {},
   "source": [
    "# Specific cells"
   ]
  },
  {
   "cell_type": "code",
   "execution_count": 3,
   "metadata": {},
   "outputs": [
    {
     "data": {
      "text/html": [
       "<div id=\"observable-embed-div-3397461991805081\"></div>\n",
       "<script type=\"module\">\n",
       "const inputs = {\"b\": \"there\"}\n",
       "import {Runtime, Inspector} from \"https://cdn.jsdelivr.net/npm/@observablehq/runtime@4/dist/runtime.js\";\n",
       "import define from \"https://api.observablehq.com/d/e4d7b23b27074e16.js?v=3\";\n",
       "const inspect = Inspector.into(\"#observable-embed-div-3397461991805081\");\n",
       "const main = (new Runtime).module(define, name => (name === \"a\") && inspect());\n",
       "for (let name of Object.keys(inputs)) {\n",
       "  main.redefine(name, inputs[name]);\n",
       "}\n",
       "</script>"
      ],
      "text/plain": [
       "<IPython.core.display.HTML object>"
      ]
     },
     "metadata": {},
     "output_type": "display_data"
    }
   ],
   "source": [
    "embed('d/e4d7b23b27074e16', cells=['a'], inputs={'b': \"there\"}, use_iframe=False)"
   ]
  },
  {
   "cell_type": "markdown",
   "metadata": {},
   "source": [
    "# iframe"
   ]
  },
  {
   "cell_type": "code",
   "execution_count": 4,
   "metadata": {},
   "outputs": [
    {
     "data": {
      "text/html": [
       "<iframe id=\"observable-embed-div-2758194147822577\" sandbox=\"allow-scripts\" style=\"overflow: auto;\" frameBorder=\"0\"></iframe>\n",
       "<script>\n",
       "iframeSrc = `<!DOCTYPE html>\n",
       "<link rel=\"stylesheet\" href=\"https://cdn.jsdelivr.net/npm/@observablehq/inspector@3/dist/inspector.css\">\n",
       "OPENSCRIPT\n",
       "var ObservableJupyter = (function (exports) {\n",
       "  'use strict';\n",
       "\n",
       "  const MONITOR_INTERVAL = 1000;\n",
       "\n",
       "  class DocumentBodyDimensionsMonitor {\n",
       "    constructor(iframeId) {\n",
       "      this.iframeId = iframeId;\n",
       "      this.lastWidth = -1;\n",
       "      this.lastHeight = -1;\n",
       "      this.timer = undefined;\n",
       "\n",
       "      this.checkAndSchedule = () => {\n",
       "        if (!this.monitoring) return;\n",
       "        this.check();\n",
       "        this.monitoring = setTimeout(this.checkAndSchedule, MONITOR_INTERVAL);\n",
       "      };\n",
       "    }\n",
       "\n",
       "    start() {\n",
       "      if (!this.monitoring) {\n",
       "        this.monitoring = true;\n",
       "        this.checkAndSchedule();\n",
       "      }\n",
       "    }\n",
       "\n",
       "    stop() {\n",
       "      if (this.monitoring) {\n",
       "        clearTimeout(this.monitoring);\n",
       "      }\n",
       "      this.monitoring = undefined;\n",
       "    }\n",
       "\n",
       "    check() {\n",
       "      const width = document.body.parentElement.clientWidth;\n",
       "      const height = document.body.parentElement.clientHeight;\n",
       "      if (width !== this.lastWidth || height !== this.lastHeight) {\n",
       "        this.lastWidth = width;\n",
       "        this.lastHeight = height;\n",
       "        this.report();\n",
       "      }\n",
       "    }\n",
       "\n",
       "    report() {\n",
       "      window.parent.postMessage(\n",
       "        {\n",
       "          type: \"iframeSize\",\n",
       "          width: this.lastWidth,\n",
       "          height: this.lastHeight,\n",
       "          iframeId: this.iframeId\n",
       "        },\n",
       "        \"*\"\n",
       "      );\n",
       "    }\n",
       "  }\n",
       "\n",
       "  const monitor = iframeId => {\n",
       "    new DocumentBodyDimensionsMonitor(iframeId).start();\n",
       "  };\n",
       "\n",
       "  exports.monitor = monitor;\n",
       "\n",
       "  return exports;\n",
       "\n",
       "}({}));\n",
       "\n",
       "CLOSESCRIPT\n",
       "<div id=\"observable-embed-div-2758194147822577\"></div>\n",
       "<script type=\"module\">\n",
       "const inputs = {}\n",
       "import {Runtime, Inspector} from \"https://cdn.jsdelivr.net/npm/@observablehq/runtime@4/dist/runtime.js\";\n",
       "import define from \"https://api.observablehq.com/d/e4d7b23b27074e16.js?v=3\";\n",
       "const inspect = Inspector.into(\"#observable-embed-div-2758194147822577\");\n",
       "const main = (new Runtime).module(define, name => (name === \"a\" || name === \"b\") && inspect());\n",
       "for (let name of Object.keys(inputs)) {\n",
       "  main.redefine(name, inputs[name]);\n",
       "}\n",
       "CLOSESCRIPT\n",
       "OPENSCRIPT\n",
       "ObservableJupyter.monitor(\"observable-embed-div-2758194147822577\")\n",
       "CLOSESCRIPT\n",
       "`.replace(/OPENSCRIPT/gi, '<sc' + 'ript>').replace(/CLOSESCRIPT/gi, '</sc' + 'ript>')\n",
       "document.getElementById('observable-embed-div-2758194147822577').srcdoc = iframeSrc;\n",
       "\n",
       "(() => {\n",
       "  function onMessage(msg) {\n",
       "    console.log('got message', msg.data);\n",
       "    if (msg.data.type === 'iframeSize') {\n",
       "      var el = document.getElementById('observable-embed-div-2758194147822577');\n",
       "      if (el) {\n",
       "        console.log('setting dimensions of', el.id, 'to', msg.data.width, msg.data.height);\n",
       "        el.width = msg.data.width;\n",
       "        el.height = msg.data.height;\n",
       "      } else {\n",
       "        removeEventListener('message', onMessage);\n",
       "      }\n",
       "    }\n",
       "  };\n",
       "\n",
       "  window.addEventListener('message', onMessage);\n",
       "})();\n",
       "</script>\n",
       "    "
      ],
      "text/plain": [
       "<IPython.core.display.HTML object>"
      ]
     },
     "metadata": {},
     "output_type": "display_data"
    }
   ],
   "source": [
    "embed('d/e4d7b23b27074e16', cells=['a', 'b'])"
   ]
  }
 ],
 "metadata": {
  "kernelspec": {
   "display_name": "Python 3",
   "language": "python",
   "name": "python3"
  },
  "language_info": {
   "codemirror_mode": {
    "name": "ipython",
    "version": 3
   },
   "file_extension": ".py",
   "mimetype": "text/x-python",
   "name": "python",
   "nbconvert_exporter": "python",
   "pygments_lexer": "ipython3",
   "version": "3.7.5"
  }
 },
 "nbformat": 4,
 "nbformat_minor": 2
}
